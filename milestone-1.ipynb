{
 "cells": [
  {
   "cell_type": "code",
   "execution_count": 1,
   "metadata": {},
   "outputs": [],
   "source": [
    "import pandas as pd\n",
    "import re\n",
    "from unidecode import unidecode\n",
    "import geonamescache"
   ]
  },
  {
   "cell_type": "code",
   "execution_count": 2,
   "metadata": {},
   "outputs": [],
   "source": [
    "gc = geonamescache.GeonamesCache()\n",
    "countries = gc.get_countries()\n",
    "cities = gc.get_cities()"
   ]
  },
  {
   "cell_type": "code",
   "execution_count": 3,
   "metadata": {},
   "outputs": [],
   "source": [
    "headlines = open('./data/headlines.txt').read().split('\\n')"
   ]
  },
  {
   "cell_type": "code",
   "execution_count": 4,
   "metadata": {},
   "outputs": [],
   "source": [
    "df = pd.DataFrame({'headlines' : headlines})"
   ]
  },
  {
   "cell_type": "code",
   "execution_count": 5,
   "metadata": {},
   "outputs": [],
   "source": [
    "keys = list(cities.keys())\n",
    "city_name = []\n",
    "city_cod = []\n",
    "city_lat = []\n",
    "city_lon = []\n",
    "for k in keys:\n",
    "    city_name.append(cities.get(k)['name'])\n",
    "    city_lat.append(cities.get(k)['latitude'])\n",
    "    city_lon.append(cities.get(k)['longitude'])\n",
    "    city_cod.append(cities.get(k)['countrycode'])\n",
    "\n",
    "city_df = pd.DataFrame({'name' : city_name,\n",
    "                       'latitude' : city_lat,\n",
    "                       'longitude' : city_lon,\n",
    "                       'countrycode' : city_cod})"
   ]
  },
  {
   "cell_type": "code",
   "execution_count": 6,
   "metadata": {},
   "outputs": [
    {
     "name": "stdout",
     "output_type": "stream",
     "text": [
      "COULD ZIKA REACH NEW YORK CITY?  :  YORK GB\n",
      "COULD ZIKA REACH NEW YORK CITY?  :  YORK US\n",
      "COULD ZIKA REACH NEW YORK CITY?  :  NEW YORK CITY US\n",
      "FIRST CASE OF ZIKA IN MIAMI BEACH  :  OF TR\n",
      "FIRST CASE OF ZIKA IN MIAMI BEACH  :  MIAMI US\n",
      "FIRST CASE OF ZIKA IN MIAMI BEACH  :  MIAMI BEACH US\n",
      "MYSTERY VIRUS SPREADS IN RECIFE, BRAZIL  :  RECIFE BR\n"
     ]
    }
   ],
   "source": [
    "for i in [1,2,3]:\n",
    "    h1 = unidecode(df['headlines'][i]).upper()\n",
    "    #print(h1)\n",
    "    for j in range(len(city_df['name'])):\n",
    "        found_match = False\n",
    "        cty = unidecode(city_df['name'][j]).upper()\n",
    "        regexp = re.compile(\"\".join([\"\\\\b\", cty, \"\\\\b\"]))\n",
    "        if regexp.search(h1):\n",
    "            print(h1, ' : ', cty, city_df['countrycode'][j])"
   ]
  },
  {
   "cell_type": "code",
   "execution_count": null,
   "metadata": {},
   "outputs": [],
   "source": [
    "hdline = []\n",
    "place = []\n",
    "ctry = []\n",
    "\n",
    "for i in range(len(df['headlines'])): \n",
    "    h1 = unidecode(df['headlines'][i]).upper()\n",
    "    no_city_match = True\n",
    "    for j in range(len(city_df['name'])):\n",
    "        cty = unidecode(city_df['name'][j]).upper()\n",
    "        coy = unidecode(countries.get(city_df['countrycode'][j])['name']).upper()\n",
    "        regexp = re.compile(\"\".join([\"\\\\b\", cty, \"\\\\b\"]))\n",
    "        if regexp.search(h1):\n",
    "            no_city_match = False\n",
    "            hdline.append(h1)\n",
    "            place.append(cty)\n",
    "            ctry.append(coy)\n",
    "    \n",
    "    if no_city_match:\n",
    "        hdline.append(h1)\n",
    "        place.append(\"NA\")\n",
    "        ctry.append(\"NA\")\n",
    "\n",
    "final_df = pd.DataFrame({'headline' : hdline,\n",
    "                        'city' : place,\n",
    "                        'country' : ctry})\n"
   ]
  },
  {
   "cell_type": "code",
   "execution_count": 91,
   "metadata": {},
   "outputs": [
    {
     "data": {
      "text/html": [
       "<div>\n",
       "<style scoped>\n",
       "    .dataframe tbody tr th:only-of-type {\n",
       "        vertical-align: middle;\n",
       "    }\n",
       "\n",
       "    .dataframe tbody tr th {\n",
       "        vertical-align: top;\n",
       "    }\n",
       "\n",
       "    .dataframe thead th {\n",
       "        text-align: right;\n",
       "    }\n",
       "</style>\n",
       "<table border=\"1\" class=\"dataframe\">\n",
       "  <thead>\n",
       "    <tr style=\"text-align: right;\">\n",
       "      <th></th>\n",
       "      <th>headline</th>\n",
       "      <th>city</th>\n",
       "      <th>country</th>\n",
       "    </tr>\n",
       "  </thead>\n",
       "  <tbody>\n",
       "    <tr>\n",
       "      <th>0</th>\n",
       "      <td>COULD ZIKA REACH NEW YORK CITY?</td>\n",
       "      <td>YORK</td>\n",
       "      <td>UNITED KINGDOM</td>\n",
       "    </tr>\n",
       "    <tr>\n",
       "      <th>1</th>\n",
       "      <td>COULD ZIKA REACH NEW YORK CITY?</td>\n",
       "      <td>YORK</td>\n",
       "      <td>UNITED STATES</td>\n",
       "    </tr>\n",
       "    <tr>\n",
       "      <th>2</th>\n",
       "      <td>COULD ZIKA REACH NEW YORK CITY?</td>\n",
       "      <td>NEW YORK CITY</td>\n",
       "      <td>UNITED STATES</td>\n",
       "    </tr>\n",
       "    <tr>\n",
       "      <th>3</th>\n",
       "      <td>FIRST CASE OF ZIKA IN MIAMI BEACH</td>\n",
       "      <td>OF</td>\n",
       "      <td>TURKEY</td>\n",
       "    </tr>\n",
       "    <tr>\n",
       "      <th>4</th>\n",
       "      <td>FIRST CASE OF ZIKA IN MIAMI BEACH</td>\n",
       "      <td>MIAMI</td>\n",
       "      <td>UNITED STATES</td>\n",
       "    </tr>\n",
       "  </tbody>\n",
       "</table>\n",
       "</div>"
      ],
      "text/plain": [
       "                            headline           city         country\n",
       "0    COULD ZIKA REACH NEW YORK CITY?           YORK  UNITED KINGDOM\n",
       "1    COULD ZIKA REACH NEW YORK CITY?           YORK   UNITED STATES\n",
       "2    COULD ZIKA REACH NEW YORK CITY?  NEW YORK CITY   UNITED STATES\n",
       "3  FIRST CASE OF ZIKA IN MIAMI BEACH             OF          TURKEY\n",
       "4  FIRST CASE OF ZIKA IN MIAMI BEACH          MIAMI   UNITED STATES"
      ]
     },
     "execution_count": 91,
     "metadata": {},
     "output_type": "execute_result"
    }
   ],
   "source": [
    "final_df.head()"
   ]
  }
 ],
 "metadata": {
  "kernelspec": {
   "display_name": "Python 3",
   "language": "python",
   "name": "python3"
  },
  "language_info": {
   "codemirror_mode": {
    "name": "ipython",
    "version": 3
   },
   "file_extension": ".py",
   "mimetype": "text/x-python",
   "name": "python",
   "nbconvert_exporter": "python",
   "pygments_lexer": "ipython3",
   "version": "3.7.6"
  }
 },
 "nbformat": 4,
 "nbformat_minor": 4
}
